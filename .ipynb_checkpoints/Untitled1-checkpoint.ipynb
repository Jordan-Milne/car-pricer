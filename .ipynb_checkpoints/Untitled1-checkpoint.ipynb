{
 "cells": [
  {
   "cell_type": "code",
   "execution_count": 1,
   "metadata": {},
   "outputs": [],
   "source": [
    "import pickle\n",
    "\n",
    "import catboost as cb\n",
    "import pandas as pd\n",
    "from sklearn.model_selection import train_test_split, KFold, cross_val_score, GridSearchCV\n",
    "from sklearn.linear_model import LinearRegression, Lasso, Ridge\n",
    "from sklearn_pandas import DataFrameMapper, CategoricalImputer, FunctionTransformer\n",
    "from sklearn.preprocessing import StandardScaler, LabelBinarizer, PolynomialFeatures\n",
    "from sklearn.impute import SimpleImputer\n",
    "from sklearn.pipeline import make_pipeline\n"
   ]
  },
  {
   "cell_type": "code",
   "execution_count": 2,
   "metadata": {},
   "outputs": [],
   "source": [
    "df = pd.read_csv('vehicles.csv')"
   ]
  },
  {
   "cell_type": "code",
   "execution_count": 4,
   "metadata": {},
   "outputs": [],
   "source": [
    "df = df.dropna(subset = ['manufacturer','model','price','year'])"
   ]
  },
  {
   "cell_type": "code",
   "execution_count": 8,
   "metadata": {},
   "outputs": [],
   "source": [
    "df = df[df.isnull().sum(axis=1) < 7]"
   ]
  },
  {
   "cell_type": "code",
   "execution_count": 12,
   "metadata": {},
   "outputs": [],
   "source": [
    "df = df[df.price != 0]"
   ]
  },
  {
   "cell_type": "code",
   "execution_count": 17,
   "metadata": {},
   "outputs": [],
   "source": [
    "df = df[df.year > 2000]"
   ]
  },
  {
   "cell_type": "code",
   "execution_count": 21,
   "metadata": {},
   "outputs": [],
   "source": [
    "df = df[df.odometer < 1000000]"
   ]
  },
  {
   "cell_type": "code",
   "execution_count": null,
   "metadata": {},
   "outputs": [],
   "source": [
    "target = 'price'\n",
    "y = df[target]\n",
    "X = df.drop(target, axis=1)\n",
    "X_train, X_test, y_train, y_test = train_test_split(X, y, random_state=42)\n",
    "kf = KFold(n_splits=5, random_state=42, shuffle=True)\n"
   ]
  },
  {
   "cell_type": "code",
   "execution_count": null,
   "metadata": {},
   "outputs": [],
   "source": [
    "mapper = DataFrameMapper([\n",
    "    ('region', LabelBinarizer()),\n",
    "    ('year', LabelBinarizer()),\n",
    "    ('manufacturer',[CategoricalImputer(), LabelBinarizer()]),\n",
    "    ('model', [CategoricalImputer(), LabelBinarizer()]),\n",
    "    ('cyclinders', [CategoricalImputer(), LabelBinarizer()]),\n",
    "    ('fuel', [CategoricalImputer(), LabelBinarizer()]),\n",
    "    (['odometer'], [SimpleImputer(), StandardScaler()]),\n",
    "    ('title_status', [CategoricalImputer(), LabelBinarizer()]),\n",
    "    ('transmission', [CategoricalImputer(), LabelBinarizer()]),\n",
    "    # (['vin'], StandardScaler()),\n",
    "    ('size', [CategoricalImputer(), LabelBinarizer()]),\n",
    "    ('type', [CategoricalImputer(), LabelBinarizer()]),\n",
    "    ('paint_color', [CategoricalImputer(), LabelBinarizer()]),\n",
    "    ('state', [CategoricalImputer(), LabelBinarizer()]),\n",
    "    ('condition', [CategoricalImputer(), LabelBinarizer()]),\n",
    "     ], df_out=True)\n"
   ]
  },
  {
   "cell_type": "code",
   "execution_count": null,
   "metadata": {},
   "outputs": [],
   "source": [
    "Z_train = mapper.fit_transform(X_train)\n",
    "Z_test = mapper.transform(X_test)"
   ]
  }
 ],
 "metadata": {
  "kernelspec": {
   "display_name": "Python 3",
   "language": "python",
   "name": "python3"
  },
  "language_info": {
   "codemirror_mode": {
    "name": "ipython",
    "version": 3
   },
   "file_extension": ".py",
   "mimetype": "text/x-python",
   "name": "python",
   "nbconvert_exporter": "python",
   "pygments_lexer": "ipython3",
   "version": "3.7.4"
  }
 },
 "nbformat": 4,
 "nbformat_minor": 2
}

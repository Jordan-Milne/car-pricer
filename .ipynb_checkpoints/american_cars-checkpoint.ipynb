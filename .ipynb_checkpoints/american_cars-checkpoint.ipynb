{
 "cells": [
  {
   "cell_type": "code",
   "execution_count": 1,
   "metadata": {},
   "outputs": [],
   "source": [
    "import pickle\n",
    "\n",
    "import catboost as cb\n",
    "import pandas as pd\n",
    "from sklearn.model_selection import train_test_split, KFold, cross_val_score, GridSearchCV\n",
    "from sklearn.linear_model import LinearRegression, Lasso, Ridge\n",
    "from sklearn_pandas import DataFrameMapper, CategoricalImputer, FunctionTransformer\n",
    "from sklearn.preprocessing import StandardScaler, LabelBinarizer, PolynomialFeatures, LabelEncoder\n",
    "from sklearn.impute import SimpleImputer\n",
    "from sklearn.pipeline import make_pipeline\n",
    "from sklearn.ensemble import RandomForestRegressor, ExtraTreesRegressor \n"
   ]
  },
  {
   "cell_type": "code",
   "execution_count": 9,
   "metadata": {},
   "outputs": [],
   "source": [
    "df = pd.read_csv('cars1.csv')\n"
   ]
  },
  {
   "cell_type": "code",
   "execution_count": 11,
   "metadata": {},
   "outputs": [
    {
     "name": "stdout",
     "output_type": "stream",
     "text": [
      "<class 'pandas.core.frame.DataFrame'>\n",
      "RangeIndex: 61316 entries, 0 to 61315\n",
      "Data columns (total 15 columns):\n",
      "price           61316 non-null int64\n",
      "year            61316 non-null float64\n",
      "manufacturer    61316 non-null object\n",
      "model           61316 non-null object\n",
      "condition       61316 non-null object\n",
      "cylinders       61316 non-null object\n",
      "fuel            61316 non-null object\n",
      "odometer        61316 non-null float64\n",
      "title_status    61316 non-null object\n",
      "transmission    61316 non-null object\n",
      "vin             61316 non-null object\n",
      "drive           61316 non-null object\n",
      "size            61316 non-null object\n",
      "type            61316 non-null object\n",
      "paint_color     61316 non-null object\n",
      "dtypes: float64(2), int64(1), object(12)\n",
      "memory usage: 7.0+ MB\n"
     ]
    }
   ],
   "source": [
    "df.info()"
   ]
  },
  {
   "cell_type": "code",
   "execution_count": null,
   "metadata": {},
   "outputs": [],
   "source": [
    "df = df[df.price > 100]"
   ]
  },
  {
   "cell_type": "code",
   "execution_count": null,
   "metadata": {},
   "outputs": [],
   "source": [
    "df = df[df.year > 2000]"
   ]
  },
  {
   "cell_type": "code",
   "execution_count": null,
   "metadata": {},
   "outputs": [],
   "source": [
    "df = df[df.odometer < 1000000]"
   ]
  },
  {
   "cell_type": "code",
   "execution_count": null,
   "metadata": {},
   "outputs": [],
   "source": []
  },
  {
   "cell_type": "code",
   "execution_count": null,
   "metadata": {},
   "outputs": [],
   "source": [
    "le = LabelEncoder()\n",
    "le.fit(df['model'])\n",
    "df['model'] = le.transform(df['model']) "
   ]
  },
  {
   "cell_type": "code",
   "execution_count": null,
   "metadata": {},
   "outputs": [],
   "source": [
    "target = 'price'\n",
    "y = df[target]\n",
    "X = df.drop(target, axis=1)\n",
    "X_train, X_test, y_train, y_test = train_test_split(X, y, random_state=42)\n"
   ]
  },
  {
   "cell_type": "code",
   "execution_count": null,
   "metadata": {},
   "outputs": [],
   "source": [
    "mapper = DataFrameMapper([\n",
    "#     ('region', LabelBinarizer()),\n",
    "    (['year'], StandardScaler()),\n",
    "    ('manufacturer',[CategoricalImputer(), LabelBinarizer()]),\n",
    "    ('model', [CategoricalImputer()]),\n",
    "    ('cylinders', [CategoricalImputer(), LabelBinarizer()]),\n",
    "    ('fuel', [CategoricalImputer(), LabelBinarizer()]),\n",
    "    (['odometer'], [SimpleImputer(), StandardScaler()]),\n",
    "    ('title_status', [CategoricalImputer(), LabelBinarizer()]),\n",
    "    ('transmission', [CategoricalImputer(), LabelBinarizer()]),\n",
    "    # (['vin'], StandardScaler()),\n",
    "    ('size', [CategoricalImputer(), LabelBinarizer()]),\n",
    "    ('type', [CategoricalImputer(), LabelBinarizer()]),\n",
    "    ('paint_color', [CategoricalImputer(), LabelBinarizer()]),\n",
    "#     ('state', [CategoricalImputer(), LabelBinarizer()]),\n",
    "    ('condition', [CategoricalImputer(), LabelBinarizer()]),\n",
    "     ], df_out=True)\n"
   ]
  },
  {
   "cell_type": "code",
   "execution_count": null,
   "metadata": {},
   "outputs": [],
   "source": [
    "Z_train = mapper.fit_transform(X_train)\n",
    "Z_test = mapper.transform(X_test)"
   ]
  },
  {
   "cell_type": "code",
   "execution_count": null,
   "metadata": {},
   "outputs": [],
   "source": [
    "# from sklearn.neighbors import KNeighborsRegressor\n",
    "# from sklearn.tree import DecisionTreeRegressor\n",
    "# from sklearn.ensemble import RandomForestRegressor, BaggingRegressor, AdaBoostRegressor\n",
    "# from sklearn.svm import SVR"
   ]
  },
  {
   "cell_type": "code",
   "execution_count": null,
   "metadata": {},
   "outputs": [],
   "source": [
    "\n",
    "\n",
    "# linreg = LinearRegression()\n",
    "# linreg.fit(Z_train, y_train)\n",
    "# linscore = linreg.score(Z_train, y_train)\n",
    "# linscore_test = linreg.score(Z_test, y_test)\n",
    "# print(f'linreg r2 score - Train: {round(linscore,3)}, - Test: {round(linscore_test,3)}')\n",
    "# #print(f'{linreg.})\n",
    "\n",
    "\n",
    "# decreg = DecisionTreeRegressor()\n",
    "# decreg.fit(Z_train, y_train)\n",
    "# decscore = decreg.score(Z_train, y_train)\n",
    "# decscore_test = decreg.score(Z_test, y_test)\n",
    "# print(f'decreg r2 score - Train: {round(decscore,3)}, - Test: {round(decscore_test,3)}')\n",
    "\n",
    "# ranreg = RandomForestRegressor(max_depth=2, random_state=0)\n",
    "# ranreg.fit(Z_train, y_train)\n",
    "# ranscore = ranreg.score(Z_train, y_train)\n",
    "# ranscore_test = ranreg.score(Z_test, y_test)\n",
    "# print(f'ranreg r2 score - Train: {round(ranscore,3)}, - Test: {round(ranscore_test,3)}')\n",
    "\n",
    "# bagreg = BaggingRegressor()\n",
    "# bagreg.fit(Z_train, y_train)\n",
    "# bagscore = bagreg.score(Z_train, y_train)\n",
    "# bagscore_test = bagreg.score(Z_test, y_test)\n",
    "# print(f'bagreg r2 score - Train: {round(bagscore,3)}, - Test: {round(bagscore_test,3)}')\n",
    "\n",
    "\n",
    "\n",
    "# extreg = ExtraTreesRegressor()\n",
    "# extreg.fit(Z_train, y_train)\n",
    "# extscore = extreg.score(Z_train, y_train)\n",
    "# extscore_test = extreg.score(Z_test, y_test)\n",
    "# print(f'ExtraTree r2 score - Train: {round(extscore,3)}, - Test: {round(extscore_test,3)}')"
   ]
  },
  {
   "cell_type": "code",
   "execution_count": null,
   "metadata": {},
   "outputs": [],
   "source": [
    "model = cb.CatBoostRegressor()\n",
    "# GridSearchCV to find best params for the pipe\n",
    "params = {\n",
    "    'iterations': [10,500],\n",
    "    'learning_rate': [0.1,0.5],\n",
    "    'depth': [4, 10],\n",
    "}\n",
    "grid = GridSearchCV(model, params, cv=3, n_jobs=-1, verbose=1)\n",
    "grid.fit(Z_train, y_train)\n",
    "print(grid.best_score_)\n",
    "print(grid.best_params_)\n",
    "\n",
    "# CatBoostRegressor using the best params found above^\n"
   ]
  },
  {
   "cell_type": "code",
   "execution_count": null,
   "metadata": {},
   "outputs": [],
   "source": [
    "# # GridSearch\n",
    "# grid = {'learning_rate': [0.03, 0.1, 0.5],\n",
    "#         'depth': [4, 6, 10],\n",
    "#         'l2_leaf_reg': [1, 5, 9],\n",
    "#         'early_stopping_rounds': [200]}\n",
    "#\n",
    "#\n",
    "#\n",
    "# grid_search_result = model.grid_search(grid,\n",
    "#                                        X=Z_train,\n",
    "#                                        y=y_train,\n",
    "#                                        plot=False)"
   ]
  },
  {
   "cell_type": "code",
   "execution_count": null,
   "metadata": {},
   "outputs": [],
   "source": []
  }
 ],
 "metadata": {
  "kernelspec": {
   "display_name": "Python 3",
   "language": "python",
   "name": "python3"
  },
  "language_info": {
   "codemirror_mode": {
    "name": "ipython",
    "version": 3
   },
   "file_extension": ".py",
   "mimetype": "text/x-python",
   "name": "python",
   "nbconvert_exporter": "python",
   "pygments_lexer": "ipython3",
   "version": "3.7.4"
  }
 },
 "nbformat": 4,
 "nbformat_minor": 2
}

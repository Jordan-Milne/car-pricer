{
 "cells": [
  {
   "cell_type": "markdown",
   "metadata": {},
   "source": [
    "# car-pricer\n",
    "Check out my app that predicts the price of cars at https://car-pricer.herokuapp.com/\n",
    "\n",
    "I used gradient boosting (CatBoostRegressor) on a dataset from kaggle to get high performance model that predicts prices of used cars in India.\n",
    "\n"
   ]
  }
 ],
 "metadata": {
  "kernelspec": {
   "display_name": "Python 3",
   "language": "python",
   "name": "python3"
  },
  "language_info": {
   "codemirror_mode": {
    "name": "ipython",
    "version": 3
   },
   "file_extension": ".py",
   "mimetype": "text/x-python",
   "name": "python",
   "nbconvert_exporter": "python",
   "pygments_lexer": "ipython3",
   "version": "3.7.4"
  }
 },
 "nbformat": 4,
 "nbformat_minor": 2
}
